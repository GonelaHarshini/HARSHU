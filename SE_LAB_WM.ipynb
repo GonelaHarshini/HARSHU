{
  "nbformat": 4,
  "nbformat_minor": 0,
  "metadata": {
    "colab": {
      "provenance": [],
      "authorship_tag": "ABX9TyPOABc/28NMrZ6R6sG2kDbW",
      "include_colab_link": true
    },
    "kernelspec": {
      "name": "python3",
      "display_name": "Python 3"
    },
    "language_info": {
      "name": "python"
    }
  },
  "cells": [
    {
      "cell_type": "markdown",
      "metadata": {
        "id": "view-in-github",
        "colab_type": "text"
      },
      "source": [
        "<a href=\"https://colab.research.google.com/github/GonelaHarshini/HARSHU/blob/main/SE_LAB_WM.ipynb\" target=\"_parent\"><img src=\"https://colab.research.google.com/assets/colab-badge.svg\" alt=\"Open In Colab\"/></a>"
      ]
    },
    {
      "cell_type": "code",
      "source": [
        "import math\n",
        "\n",
        "# Hardcoded coefficients\n",
        "a, b, c = 1, -7, 10\n",
        "\n",
        "# Quadratic solution\n",
        "discriminant = b**2 - 4*a*c\n",
        "if discriminant > 0:\n",
        "    root1 = (-b + math.sqrt(discriminant)) / (2*a)\n",
        "    root2 = (-b - math.sqrt(discriminant)) / (2*a)\n",
        "    print(f\"Two Real Roots: {root1}, {root2}\")\n",
        "elif discriminant == 0:\n",
        "    root = -b / (2*a)\n",
        "    print(f\"One Real Root: {root}\")\n",
        "else:\n",
        "    print(\"No Real Roots\")\n"
      ],
      "metadata": {
        "colab": {
          "base_uri": "https://localhost:8080/"
        },
        "id": "R1a6hSHT6hak",
        "outputId": "74867e1c-cc21-4913-e8ff-66e3bb935bbc"
      },
      "execution_count": 18,
      "outputs": [
        {
          "output_type": "stream",
          "name": "stdout",
          "text": [
            "Two Real Roots: 5.0, 2.0\n"
          ]
        }
      ]
    },
    {
      "cell_type": "code",
      "source": [
        "import math\n",
        "\n",
        "def quadratic_solution(a, b, c):\n",
        "    discriminant = b**2 - 4*a*c\n",
        "    if discriminant > 0:\n",
        "        root1 = (-b + math.sqrt(discriminant)) / (2*a)\n",
        "        root2 = (-b - math.sqrt(discriminant)) / (2*a)\n",
        "        return f\"Two Real Roots: {root1}, {root2}\"\n",
        "    elif discriminant == 0:\n",
        "        root = -b / (2*a)\n",
        "        return f\"One Real Root: {root}\"\n",
        "    else:\n",
        "        return \"No Real Roots\"\n",
        "\n",
        "# Get user input\n",
        "a, b, c = map(float, input(\"Enter coefficients a, b, c separated by space: \").split())\n",
        "\n",
        "# Call function and print result\n",
        "print(quadratic_solution(a, b, c))\n"
      ],
      "metadata": {
        "colab": {
          "base_uri": "https://localhost:8080/"
        },
        "id": "bzmzNcZQ66Ha",
        "outputId": "61152394-4d74-445f-c2b9-3d7f9e91549b"
      },
      "execution_count": 21,
      "outputs": [
        {
          "output_type": "stream",
          "name": "stdout",
          "text": [
            "Enter coefficients a, b, c separated by space: 1 -3  2\n",
            "Two Real Roots: 2.0, 1.0\n"
          ]
        }
      ]
    },
    {
      "cell_type": "code",
      "source": [
        "import math\n",
        "\n",
        "a = float(input(\"a: \"))\n",
        "b = float(input(\"b: \"))\n",
        "c = float(input(\"c: \"))\n",
        "d = b**2 - 4*a*c\n",
        "if d >= 0:\n",
        "    print((-b + math.sqrt(d)) / (2*a), (-b - math.sqrt(d)) / (2*a))\n",
        "else:\n",
        "    print(\"No real roots\")\n"
      ],
      "metadata": {
        "colab": {
          "base_uri": "https://localhost:8080/"
        },
        "id": "gHxwVlG-4mOW",
        "outputId": "176c561f-f3ea-4a4b-faf1-1d3d625c3df8"
      },
      "execution_count": 9,
      "outputs": [
        {
          "output_type": "stream",
          "name": "stdout",
          "text": [
            "a: 2\n",
            "b: -1\n",
            "c: 3\n",
            "No real roots\n"
          ]
        }
      ]
    },
    {
      "cell_type": "code",
      "source": [
        "import math\n",
        "\n",
        "def quadratic(a, b, c):\n",
        "    d = b**2 - 4*a*c\n",
        "    if d >= 0:\n",
        "        return (-b + math.sqrt(d)) / (2*a), (-b - math.sqrt(d)) / (2*a)\n",
        "    else:\n",
        "        return \"No real roots\"\n",
        "\n",
        "print(quadratic(1, -3, 2))\n"
      ],
      "metadata": {
        "colab": {
          "base_uri": "https://localhost:8080/"
        },
        "id": "oP2SooNP4vue",
        "outputId": "a7ed72c4-249b-49d1-ba6b-d3ae19669522"
      },
      "execution_count": 11,
      "outputs": [
        {
          "output_type": "stream",
          "name": "stdout",
          "text": [
            "(2.0, 1.0)\n"
          ]
        }
      ]
    },
    {
      "cell_type": "code",
      "source": [
        "import math\n",
        "\n",
        "sets = [(1, -3, 2), (1, -7, 10), (1, 2, 1)]\n",
        "for a, b, c in sets:\n",
        "    d = b**2 - 4*a*c\n",
        "    if d >= 0:\n",
        "        print((-b + math.sqrt(d)) / (2*a), (-b - math.sqrt(d)) / (2*a))\n",
        "    else:\n",
        "        print(\"No real roots\")\n"
      ],
      "metadata": {
        "colab": {
          "base_uri": "https://localhost:8080/"
        },
        "id": "SUaiAh084y9G",
        "outputId": "5a75ebbb-0982-43f9-8513-ef924b496784"
      },
      "execution_count": 12,
      "outputs": [
        {
          "output_type": "stream",
          "name": "stdout",
          "text": [
            "2.0 1.0\n",
            "5.0 2.0\n",
            "-1.0 -1.0\n"
          ]
        }
      ]
    },
    {
      "cell_type": "code",
      "source": [
        "import math\n",
        "\n",
        "n = int(input(\"Number of equations: \"))\n",
        "for _ in range(n):\n",
        "    a, b, c = map(float, input(\"Enter a, b, c: \").split())\n",
        "    d = b**2 - 4*a*c\n",
        "    if d >= 0:\n",
        "        print((-b + math.sqrt(d)) / (2*a), (-b - math.sqrt(d)) / (2*a))\n",
        "    else:\n",
        "        print(\"No real roots\")\n"
      ],
      "metadata": {
        "colab": {
          "base_uri": "https://localhost:8080/"
        },
        "id": "NHDj536T41M-",
        "outputId": "66e7d805-b1d4-455d-f677-8c06817a4a36"
      },
      "execution_count": 13,
      "outputs": [
        {
          "output_type": "stream",
          "name": "stdout",
          "text": [
            "Number of equations: 2\n",
            "Enter a, b, c: 1 -3 2\n",
            "2.0 1.0\n",
            "Enter a, b, c: 1 2 1\n",
            "-1.0 -1.0\n"
          ]
        }
      ]
    },
    {
      "cell_type": "code",
      "source": [
        "import math\n",
        "\n",
        "def solve(a, b, c):\n",
        "    d = b**2 - 4*a*c\n",
        "    if d >= 0:\n",
        "        return (-b + math.sqrt(d)) / (2*a), (-b - math.sqrt(d)) / (2*a)\n",
        "    else:\n",
        "        return \"No real roots\"\n",
        "\n",
        "print(solve(1, -3, 2))  # Hardcoded\n",
        "a, b, c = map(float, input(\"Enter a, b, c: \").split())  # Keyboard input\n",
        "print(solve(a, b, c))\n"
      ],
      "metadata": {
        "colab": {
          "base_uri": "https://localhost:8080/"
        },
        "id": "fcx0WO9k5C0F",
        "outputId": "41ce428e-be36-4a43-df87-25e4214cf8c3"
      },
      "execution_count": 15,
      "outputs": [
        {
          "output_type": "stream",
          "name": "stdout",
          "text": [
            "(2.0, 1.0)\n",
            "Enter a, b, c: 1 -7 10\n",
            "(5.0, 2.0)\n"
          ]
        }
      ]
    }
  ]
}