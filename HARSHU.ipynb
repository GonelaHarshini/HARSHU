{
  "nbformat": 4,
  "nbformat_minor": 0,
  "metadata": {
    "colab": {
      "provenance": [],
      "authorship_tag": "ABX9TyPqobL4gTxRQQ7pwe/SULRb",
      "include_colab_link": true
    },
    "kernelspec": {
      "name": "python3",
      "display_name": "Python 3"
    },
    "language_info": {
      "name": "python"
    }
  },
  "cells": [
    {
      "cell_type": "markdown",
      "metadata": {
        "id": "view-in-github",
        "colab_type": "text"
      },
      "source": [
        "<a href=\"https://colab.research.google.com/github/GonelaHarshini/HARSHU/blob/main/HARSHU.ipynb\" target=\"_parent\"><img src=\"https://colab.research.google.com/assets/colab-badge.svg\" alt=\"Open In Colab\"/></a>"
      ]
    },
    {
      "cell_type": "code",
      "execution_count": 1,
      "metadata": {
        "colab": {
          "base_uri": "https://localhost:8080/"
        },
        "id": "oKFELh5n3yz-",
        "outputId": "09fc16a0-ab60-4ff0-a959-57c0a9b08b78"
      },
      "outputs": [
        {
          "output_type": "stream",
          "name": "stdout",
          "text": [
            "Full Name: John Doe\n"
          ]
        }
      ],
      "source": [
        "# Hardcoded variables\n",
        "first_name = \"John\"\n",
        "last_name = \"Doe\"\n",
        "\n",
        "# Concatenate strings\n",
        "full_name = first_name + \" \" + last_name\n",
        "\n",
        "# Display result\n",
        "print(f\"Full Name: {full_name}\")"
      ]
    },
    {
      "cell_type": "code",
      "source": [
        "# Keyboard input\n",
        "try:\n",
        "    x = int(input(\"Enter a number to multiply: \"))\n",
        "    y = int(input(\"Enter another number to multiply: \"))\n",
        "\n",
        "    # Perform multiplication\n",
        "    result = x * y\n",
        "\n",
        "    # Display result\n",
        "    print(f\"User Input Multiplication: x = {x}, y = {y}, result = {result}\")\n",
        "\n",
        "except ValueError:\n",
        "    print(\"Please enter valid integers!\")\n"
      ],
      "metadata": {
        "colab": {
          "base_uri": "https://localhost:8080/"
        },
        "id": "xecpBXH-4kpz",
        "outputId": "609652b4-6638-4270-8b51-eb672b5a78ea"
      },
      "execution_count": 2,
      "outputs": [
        {
          "output_type": "stream",
          "name": "stdout",
          "text": [
            "Enter a number to multiply: 4\n",
            "Enter another number to multiply: 6\n",
            "User Input Multiplication: x = 4, y = 6, result = 24\n"
          ]
        }
      ]
    },
    {
      "cell_type": "code",
      "source": [
        "# Save multiple lines in the file for demonstration\n",
        "with open(\"data.txt\", \"w\") as f:\n",
        "    f.write(\"25\\n35\\n45\\n55\\n\")\n",
        "\n",
        "# Reading multiple lines and processing data\n",
        "try:\n",
        "    with open(\"data.txt\", \"r\") as f:\n",
        "        lines = f.readlines()\n",
        "        numbers = [int(line.strip()) for line in lines]\n",
        "\n",
        "    # Calculate average of numbers\n",
        "    average = sum(numbers) / len(numbers)\n",
        "    print(f\"Average of numbers from file: {average}\")\n",
        "\n",
        "except FileNotFoundError:\n",
        "    print(\"File not found!\")\n",
        "\n",
        "except ValueError:\n",
        "    print(\"Error in reading or converting the input!\")\n"
      ],
      "metadata": {
        "colab": {
          "base_uri": "https://localhost:8080/"
        },
        "id": "qpihmTrL4qlh",
        "outputId": "662700c1-32ab-401a-b6a5-97db272791f6"
      },
      "execution_count": 3,
      "outputs": [
        {
          "output_type": "stream",
          "name": "stdout",
          "text": [
            "Average of numbers from file: 40.0\n"
          ]
        }
      ]
    },
    {
      "cell_type": "code",
      "source": [
        "# Keyboard input\n",
        "user_input = input(\"Enter a string to save to a file: \")\n",
        "\n",
        "# Write user input to file\n",
        "with open(\"user_input_file.txt\", \"w\") as f:\n",
        "    f.write(user_input)\n",
        "\n",
        "print(f\"User input saved to user_input_file.txt\")\n"
      ],
      "metadata": {
        "colab": {
          "base_uri": "https://localhost:8080/"
        },
        "id": "H3VKuYso4r1x",
        "outputId": "b37daf84-3b93-4bd4-eb24-09ad29fad5ff"
      },
      "execution_count": 4,
      "outputs": [
        {
          "output_type": "stream",
          "name": "stdout",
          "text": [
            "Enter a string to save to a file: HELLO this is the text\n",
            "User input saved to user_input_file.txt\n"
          ]
        }
      ]
    },
    {
      "cell_type": "code",
      "source": [
        "# Hardcoded variables\n",
        "numerator = 100\n",
        "denominator = 0  # Change to a non-zero value to test success\n",
        "\n",
        "# Perform division with error handling\n",
        "try:\n",
        "    result = numerator / denominator\n",
        "    print(f\"Division Result: {numerator} / {denominator} = {result}\")\n",
        "except ZeroDivisionError:\n",
        "    print(\"Error: Division by zero is not allowed!\")\n"
      ],
      "metadata": {
        "colab": {
          "base_uri": "https://localhost:8080/"
        },
        "id": "5ga_SUTS4vwi",
        "outputId": "d4075318-979f-4f86-b768-16efff722095"
      },
      "execution_count": 5,
      "outputs": [
        {
          "output_type": "stream",
          "name": "stdout",
          "text": [
            "Error: Division by zero is not allowed!\n"
          ]
        }
      ]
    }
  ]
}