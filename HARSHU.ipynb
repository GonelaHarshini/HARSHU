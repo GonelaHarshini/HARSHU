{
  "nbformat": 4,
  "nbformat_minor": 0,
  "metadata": {
    "colab": {
      "provenance": [],
      "authorship_tag": "ABX9TyMompEEofVBJOwUpXFaZspw",
      "include_colab_link": true
    },
    "kernelspec": {
      "name": "python3",
      "display_name": "Python 3"
    },
    "language_info": {
      "name": "python"
    }
  },
  "cells": [
    {
      "cell_type": "markdown",
      "metadata": {
        "id": "view-in-github",
        "colab_type": "text"
      },
      "source": [
        "<a href=\"https://colab.research.google.com/github/GonelaHarshini/HARSHU/blob/main/HARSHU.ipynb\" target=\"_parent\"><img src=\"https://colab.research.google.com/assets/colab-badge.svg\" alt=\"Open In Colab\"/></a>"
      ]
    },
    {
      "cell_type": "code",
      "execution_count": 1,
      "metadata": {
        "colab": {
          "base_uri": "https://localhost:8080/"
        },
        "id": "oKFELh5n3yz-",
        "outputId": "09fc16a0-ab60-4ff0-a959-57c0a9b08b78"
      },
      "outputs": [
        {
          "output_type": "stream",
          "name": "stdout",
          "text": [
            "Full Name: John Doe\n"
          ]
        }
      ],
      "source": [
        "# Hardcoded variables\n",
        "first_name = \"John\"\n",
        "last_name = \"Doe\"\n",
        "\n",
        "# Concatenate strings\n",
        "full_name = first_name + \" \" + last_name\n",
        "\n",
        "# Display result\n",
        "print(f\"Full Name: {full_name}\")"
      ]
    }
  ]
}